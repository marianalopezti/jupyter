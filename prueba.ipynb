{
 "cells": [
  {
   "cell_type": "code",
   "execution_count": 7,
   "id": "3d73b9f9-81d7-408b-808d-fb94c5940a38",
   "metadata": {},
   "outputs": [
    {
     "name": "stdout",
     "output_type": "stream",
     "text": [
      "7\n"
     ]
    }
   ],
   "source": [
    "# Celda interactiva \"Try It Yourself\"\n",
    "# Ejecuta esta celda para ver cómo funciona.\n",
    "\n",
    "def my_function(x):\n",
    "    # Modifica el código y ejecuta la celda nuevamente para ver diferentes resultados.\n",
    "    return 3 * x + 1\n",
    "\n",
    "# Llama a la función con un valor que quieras probar\n",
    "result = my_function(2) # Cambia el número \"2\" por cualquier otro valor para probar.\n",
    "print(result) # Esto imprimirá el resultado de la función."
   ]
  }
 ],
 "metadata": {
  "kernelspec": {
   "display_name": "Python 3 (ipykernel)",
   "language": "python",
   "name": "python3"
  },
  "language_info": {
   "codemirror_mode": {
    "name": "ipython",
    "version": 3
   },
   "file_extension": ".py",
   "mimetype": "text/x-python",
   "name": "python",
   "nbconvert_exporter": "python",
   "pygments_lexer": "ipython3",
   "version": "3.9.9"
  }
 },
 "nbformat": 4,
 "nbformat_minor": 5
}
