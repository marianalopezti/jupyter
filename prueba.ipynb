# Celda interactiva "Try It Yourself"
# Ejecuta esta celda para ver cómo funciona.

def my_function(x):
    # Modifica el código y ejecuta la celda nuevamente para ver diferentes resultados.
    return 3 * x + 1

# Llama a la función con un valor que quieras probar
result = my_function(2) # Cambia el número "2" por cualquier otro valor para probar.
print(result) # Esto imprimirá el resultado de la función.
