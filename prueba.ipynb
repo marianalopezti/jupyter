{
 "cells": [
  {
   "cell_type": "code",
   "execution_count": null,
   "id": "3d73b9f9-81d7-408b-808d-fb94c5940a38",
   "metadata": {},
   "outputs": [],
   "source": [
    "Selenium.open_browser(self, \"URL\", record = True)"
   ]
  }
 ],
 "metadata": {
  "kernelspec": {
   "display_name": "Python 3 (ipykernel)",
   "language": "python",
   "name": "python3"
  },
  "language_info": {
   "codemirror_mode": {
    "name": "ipython",
    "version": 3
   },
   "file_extension": ".py",
   "mimetype": "text/x-python",
   "name": "python",
   "nbconvert_exporter": "python",
   "pygments_lexer": "ipython3",
   "version": "3.9.9"
  }
 },
 "nbformat": 4,
 "nbformat_minor": 5
}
